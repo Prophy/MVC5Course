{
  "nbformat": 4,
  "nbformat_minor": 0,
  "metadata": {
    "colab": {
      "provenance": [],
      "include_colab_link": true
    },
    "kernelspec": {
      "name": "python3",
      "display_name": "Python 3"
    },
    "accelerator": "GPU"
  },
  "cells": [
    {
      "cell_type": "markdown",
      "metadata": {
        "id": "view-in-github",
        "colab_type": "text"
      },
      "source": [
        "<a href=\"https://colab.research.google.com/github/Prophy/MVC5Course/blob/master/test.ipynb\" target=\"_parent\"><img src=\"https://colab.research.google.com/assets/colab-badge.svg\" alt=\"Open In Colab\"/></a>"
      ]
    },
    {
      "metadata": {
        "id": "xEAljd7UzAbL",
        "outputId": "6ee861ca-bddd-4b48-f30f-b69b85566f1b",
        "colab": {
          "base_uri": "https://localhost:8080/"
        }
      },
      "cell_type": "code",
      "source": [
        "arr = [1,2,3]\n",
        "for i in arr:\n",
        "  print(str(i))"
      ],
      "execution_count": 1,
      "outputs": [
        {
          "output_type": "stream",
          "name": "stdout",
          "text": [
            "1\n",
            "2\n",
            "3\n"
          ]
        }
      ]
    },
    {
      "metadata": {
        "id": "tV5J5LJy2Npy"
      },
      "cell_type": "markdown",
      "source": [
        "# 新段落"
      ]
    },
    {
      "metadata": {
        "id": "ey95oLpa0tMB",
        "colab": {
          "base_uri": "https://localhost:8080/"
        },
        "outputId": "b3748d30-7573-4115-c806-e809eeca85c7"
      },
      "cell_type": "code",
      "source": [
        "mailList = list(range(1, 101))  # 包含1到10的列表\n",
        "auth_str = \"a1:p1|a2:p2|a3:p3|a4:p4\"\n",
        "auth_pairs = auth_str.split(\"|\")\n",
        "smtp_auth_dict = {} # 生成多個寄信帳密\n",
        "for pair in auth_pairs:\n",
        "    key, value = pair.split(\":\")\n",
        "    smtp_auth_dict[key] = value\n",
        "\n",
        "# 將收件者(receivers)平均分配給寄信帳號\n",
        "num_receiver_per_smtp_account = len(mailList) // len(smtp_auth_dict) # 取商 = 每個寄信帳號分配之收件者\n",
        "print(f\"num_receiver_per_smtp_account={num_receiver_per_smtp_account}\")\n",
        "\n",
        "# loop進行平均分配: 依據index, 循序取出receiver\n",
        "start_index = 0\n",
        "receivers_dict = dict()\n",
        "print(mailList[24])\n",
        "for smtp_account, value in smtp_auth_dict.items(): #\n",
        "    end_index = start_index + num_receiver_per_smtp_account  # find end_index\n",
        "    receivers_for_account = mailList[start_index:end_index]  # 依據index, 取出receiver\n",
        "    print(f\"receivers for account {smtp_account}: {receivers_for_account}\")\n",
        "    print(f\"receivers for account {smtp_account} index: {start_index}~{end_index}\")\n",
        "    receivers_dict[smtp_account] = receivers_for_account\n",
        "    start_index = end_index  # 更新start_index\n",
        "\n",
        "# 再將餘數平均分配\n",
        "dict_iter = iter(receivers_dict)\n",
        "print(f\"start_index={start_index}\")\n",
        "print(f\"mailList len={len(mailList)}\")\n",
        "if start_index < len(mailList):\n",
        "    print(\"handle remainder \")\n",
        "    for i in range(start_index, len(mailList)):\n",
        "        dict_key = next(dict_iter)\n",
        "        receivers_dict[dict_key].append(mailList[i])\n",
        "\n",
        "for key, value in receivers_dict.items():\n",
        "    print(f\"key={key} | value={value}\")\n"
      ],
      "execution_count": 2,
      "outputs": [
        {
          "output_type": "stream",
          "name": "stdout",
          "text": [
            "num_receiver_per_smtp_account=25\n",
            "25\n",
            "receivers for account a1: [1, 2, 3, 4, 5, 6, 7, 8, 9, 10, 11, 12, 13, 14, 15, 16, 17, 18, 19, 20, 21, 22, 23, 24, 25]\n",
            "receivers for account a1 index: 0~25\n",
            "receivers for account a2: [26, 27, 28, 29, 30, 31, 32, 33, 34, 35, 36, 37, 38, 39, 40, 41, 42, 43, 44, 45, 46, 47, 48, 49, 50]\n",
            "receivers for account a2 index: 25~50\n",
            "receivers for account a3: [51, 52, 53, 54, 55, 56, 57, 58, 59, 60, 61, 62, 63, 64, 65, 66, 67, 68, 69, 70, 71, 72, 73, 74, 75]\n",
            "receivers for account a3 index: 50~75\n",
            "receivers for account a4: [76, 77, 78, 79, 80, 81, 82, 83, 84, 85, 86, 87, 88, 89, 90, 91, 92, 93, 94, 95, 96, 97, 98, 99, 100]\n",
            "receivers for account a4 index: 75~100\n",
            "start_index=100\n",
            "mailList len=100\n",
            "key=a1 | value=[1, 2, 3, 4, 5, 6, 7, 8, 9, 10, 11, 12, 13, 14, 15, 16, 17, 18, 19, 20, 21, 22, 23, 24, 25]\n",
            "key=a2 | value=[26, 27, 28, 29, 30, 31, 32, 33, 34, 35, 36, 37, 38, 39, 40, 41, 42, 43, 44, 45, 46, 47, 48, 49, 50]\n",
            "key=a3 | value=[51, 52, 53, 54, 55, 56, 57, 58, 59, 60, 61, 62, 63, 64, 65, 66, 67, 68, 69, 70, 71, 72, 73, 74, 75]\n",
            "key=a4 | value=[76, 77, 78, 79, 80, 81, 82, 83, 84, 85, 86, 87, 88, 89, 90, 91, 92, 93, 94, 95, 96, 97, 98, 99, 100]\n"
          ]
        }
      ]
    }
  ]
}